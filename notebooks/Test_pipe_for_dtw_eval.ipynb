{
 "cells": [
  {
   "cell_type": "markdown",
   "metadata": {},
   "source": [
    "# Simulate data from a config table\n",
    "\n",
    "This notebook shows you how to simulate several pairs of \"phyllotaxis\" sequences at the same time using a configuration (config) table.\n",
    "\n",
    "- a *phyllotaxis sequence* is an ordered sequence of values representing the divergence angles and internode length between 'organs' (e.g. leaves, fruits, flowers, branches) along the stem of a plant \n",
    "- a *pair of sequences* are two related sequences: one \"reference\" and one \"test\" derived from the \"reference\" after several modifications.\n",
    "\n",
    "The **config table** is a .csv file that details the modifications that alters the \"test\" sequence from the \"reference\" sequence. A template file with all explanation is available in **R_simul-eval/example_data/simulation_plants_README.ods**\n",
    "\n",
    "The ouput \"reference\" and \"test\" sequences of this process can be given to an \"alignment predictor\" program such as `sm-dtw`. Among the outputs of this program, a \"ground truth\" alignment is provided (\"align_intervals.csv\") which allows you to quantify how much the alignment prediction is correct.\n",
    "\n",
    "A pdf containing plots for each sequence pair can also be generated\n"
   ]
  },
  {
   "cell_type": "code",
   "execution_count": 7,
   "metadata": {},
   "outputs": [
    {
     "name": "stdout",
     "output_type": "stream",
     "text": [
      "(romi) (romi) [1] \"processing data for plant Plant#1\"\n",
      "reminder of main scenario parameters \n",
      "[1] \"seg_errors = TRUE\"\n",
      "[1] \"permutation = TRUE\"\n",
      "[1] \"measure = TRUE\"\n",
      "[1] \"noise = FALSE\"\n",
      "Number of short error-free internodes that can be permuted = 3 .\n",
      "Permuting organs of interval n° 12 in the $modified sequence.\n",
      "Permuting organs of interval n° 17 in the $modified sequence.\n",
      "Permuting organs of interval n° 21 in the $modified sequence.\n",
      "Number of permutation performed = 3.\n",
      "[1] \"processing data for plant Plant#2\"\n",
      "reminder of main scenario parameters \n",
      "[1] \"seg_errors = TRUE\"\n",
      "[1] \"permutation = FALSE\"\n",
      "[1] \"measure = FALSE\"\n",
      "[1] \"noise = TRUE\"\n",
      "[1] \"processing data for plant Plant#3\"\n",
      "reminder of main scenario parameters \n",
      "[1] \"seg_errors = TRUE\"\n",
      "[1] \"permutation = FALSE\"\n",
      "[1] \"measure = FALSE\"\n",
      "[1] \"noise = TRUE\"\n",
      "[1] \"processing data for plant Plant#4\"\n",
      "reminder of main scenario parameters \n",
      "[1] \"seg_errors = TRUE\"\n",
      "[1] \"permutation = TRUE\"\n",
      "[1] \"measure = FALSE\"\n",
      "[1] \"noise = FALSE\"\n",
      "Number of short error-free internodes that can be permuted = 1 .\n",
      "Permuting organs of interval n° 15 in the $modified sequence.\n",
      "Number of permutation performed = 1.\n",
      "[1] \"processing data for plant Plant#5\"\n",
      "reminder of main scenario parameters \n",
      "[1] \"seg_errors = FALSE\"\n",
      "[1] \"permutation = FALSE\"\n",
      "[1] \"measure = FALSE\"\n",
      "[1] \"noise = TRUE\"\n",
      "Il y a eu 17 avis (utilisez warnings() pour les visionner)\n",
      "data generated - end of script \n",
      "(romi) (romi) (romi) (romi) "
     ]
    },
    {
     "ename": "",
     "evalue": "1",
     "output_type": "error",
     "traceback": []
    }
   ],
   "source": [
    "dest=/home/fabfab/Dropbox/Arabidopsis-eval/Phyllotaxis-sim-eval/example_data/Notebook_tests\n",
    "\n",
    "Rscript ../bin/simul_data.R \\\n",
    "--file ../example_data/Notebook_tests/simulation_plants_nb.csv \\\n",
    "--destination $dest \\\n",
    "--plots \\\n",
    "--verbose\n",
    "#only --file/-f is a compulsory option\n",
    "#absolute path are required for --destination option\n",
    "#--plots option is deactivated by default"
   ]
  },
  {
   "cell_type": "markdown",
   "metadata": {},
   "source": [
    "The above script has generated 5 new files (names are fixed):\n",
    "\n",
    "- `reference_sequences.csv`: can be used as input for `sm-dtw`\n",
    "- `test_sequences.csv`: can be used as input for `sm-dtw`\n",
    "- `align_intervals.csv`: groundtruth alignment of intervals between the two paired phyllotaxis sequences\n",
    "- `align_organs.csv`: groundtruth alignment of organs\n",
    "- `Rplots.pdf`: compilation of aligned plots for each sequence pair "
   ]
  },
  {
   "cell_type": "markdown",
   "metadata": {},
   "source": []
  },
  {
   "cell_type": "code",
   "execution_count": 8,
   "metadata": {},
   "outputs": [
    {
     "name": "stdout",
     "output_type": "stream",
     "text": [
      "(base) (romi) "
     ]
    },
    {
     "ename": "",
     "evalue": "1",
     "output_type": "error",
     "traceback": []
    }
   ],
   "source": [
    "source ~/softwares/miniconda3/bin/activate\n",
    "conda activate romi"
   ]
  },
  {
   "cell_type": "code",
   "execution_count": 9,
   "metadata": {},
   "outputs": [
    {
     "name": "stdout",
     "output_type": "stream",
     "text": [
      "2021-11-03 17:52:20 - INFO: Loading CSV files...\n",
      "2021-11-03 17:52:20 - INFO: Found 5 PlantID in the reference CSV file.\n",
      "2021-11-03 17:52:20 - INFO: Found 5 PlantID in the test CSV file.\n",
      "2021-11-03 17:52:20 - INFO: Found 5 common PlantID in the reference & test CSV file.\n",
      "2021-11-03 17:52:20 - INFO: Performing sequence comparison for 'Plant#3'...\n",
      "2021-11-03 17:52:20 - INFO: Starting brute force search for 25 pairs of free-ends...\n",
      "2021-11-03 17:52:23 - INFO: Found free-ends (0, 4) at a cost of 0.08855695212494209.\n",
      "2021-11-03 17:52:24 - INFO: Performing sequence comparison for 'Plant#1'...\n",
      "2021-11-03 17:52:24 - INFO: Starting brute force search for 64 pairs of free-ends...\n",
      "2021-11-03 17:52:46 - INFO: Found free-ends (0, 8) at a cost of 0.17814975897239918.\n",
      "2021-11-03 17:52:47 - INFO: Performing sequence comparison for 'Plant#4'...\n",
      "2021-11-03 17:52:47 - INFO: Starting brute force search for 49 pairs of free-ends...\n",
      "2021-11-03 17:53:00 - INFO: Found free-ends (3, 4) at a cost of 0.049547824293467525.\n",
      "2021-11-03 17:53:00 - INFO: Performing sequence comparison for 'Plant#5'...\n",
      "2021-11-03 17:53:00 - INFO: Starting brute force search for 49 pairs of free-ends...\n",
      "2021-11-03 17:53:13 - INFO: Found free-ends (0, 7) at a cost of 0.0480808642428306.\n",
      "2021-11-03 17:53:13 - INFO: Performing sequence comparison for 'Plant#2'...\n",
      "2021-11-03 17:53:13 - INFO: Starting brute force search for 25 pairs of free-ends...\n",
      "2021-11-03 17:53:16 - INFO: Found free-ends (1, 2) at a cost of 0.15534146044234715.\n",
      "2021-11-03 17:53:17 - INFO: Exporting result CSV to '/home/fabfab/Dropbox/Arabidopsis-eval/Phyllotaxis-sim-eval/example_data/Notebook_tests/ploufplouf_result.csv'\n",
      "(romi) "
     ]
    },
    {
     "ename": "",
     "evalue": "1",
     "output_type": "error",
     "traceback": []
    }
   ],
   "source": [
    "align_csv_database.py $dest/reference_sequences.csv $dest/test_sequences.csv ploufplouf --free_ends 0.4"
   ]
  },
  {
   "cell_type": "code",
   "execution_count": null,
   "metadata": {},
   "outputs": [],
   "source": []
  }
 ],
 "metadata": {
  "kernelspec": {
   "display_name": "Bash",
   "language": "bash",
   "name": "bash"
  },
  "language_info": {
   "codemirror_mode": "shell",
   "file_extension": ".sh",
   "mimetype": "text/x-sh",
   "name": "bash"
  }
 },
 "nbformat": 4,
 "nbformat_minor": 4
}
