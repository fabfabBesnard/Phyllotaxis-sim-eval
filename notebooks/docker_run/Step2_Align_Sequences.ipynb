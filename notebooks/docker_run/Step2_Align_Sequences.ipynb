{
 "cells": [
  {
   "cell_type": "markdown",
   "id": "18bad3dd",
   "metadata": {},
   "source": [
    "## Before starting: select bash kernel\n",
    "\n",
    "- In the menu bar on top of this notebook, select Kernel > Change Kernel > \"bash\"\n",
    "\n",
    "- In the top right corner, \"Bash\" should be written next to the circle monitoring kernel activity\n"
   ]
  },
  {
   "cell_type": "markdown",
   "id": "9d379e1c",
   "metadata": {},
   "source": [
    "# (Step2) align two sequences with sm-dtw\n",
    "*In step1*, you previously produced a pair of phyllotaxis sequences: one reference sequence and a test sequence which derives from the first after typical \"measurement errors\". Each phyllotaxis sequence is made of two sub-sequences: the divergence angles and the internode lengths between successive organs along a stem.\n",
    "\n",
    "Here, you will use our program `sm-dtw` to realign the test sequence with the reference and detect automatically the potential additions or losses of organs along the test sequence."
   ]
  },
  {
   "cell_type": "code",
   "execution_count": 1,
   "id": "c818b691",
   "metadata": {},
   "outputs": [
    {
     "name": "stdout",
     "output_type": "stream",
     "text": [
      "\u001b[?2004h\u001b[?2004l"
     ]
    },
    {
     "ename": "",
     "evalue": "1",
     "output_type": "error",
     "traceback": []
    }
   ],
   "source": [
    "# set-up inputs and working directory\n",
    "dest=/myapp/docker_sandbox"
   ]
  },
  {
   "cell_type": "code",
   "execution_count": 3,
   "id": "84f9885a",
   "metadata": {},
   "outputs": [
    {
     "name": "stdout",
     "output_type": "stream",
     "text": [
      "2022-06-20 21:06:03 - INFO: Loading CSV files...\n",
      "2022-06-20 21:06:03 - INFO: Found 1 PlantID in the reference CSV file.\n",
      "2022-06-20 21:06:03 - INFO: Found 1 PlantID in the test CSV file.\n",
      "2022-06-20 21:06:03 - INFO: Found 1 common PlantID in the reference & test CSV file.\n",
      "2022-06-20 21:06:03 - INFO: Performing sequence comparison for 'MyPlant'...\n",
      "2022-06-20 21:06:04 - INFO: Exporting result CSV to '/myapp/docker_sandbox/dtw1_result.csv'\n",
      "\u001b[?2004h"
     ]
    },
    {
     "ename": "",
     "evalue": "1",
     "output_type": "error",
     "traceback": []
    }
   ],
   "source": [
    "#choose a prefix name to identify the result output from dtw\n",
    "myprediction=\"dtw1\"\n",
    "align_csv_database.py $dest/reference_sequences.csv $dest/test_sequences.csv \\\n",
    "$myprediction"
   ]
  },
  {
   "cell_type": "code",
   "execution_count": 4,
   "id": "84b4f4de",
   "metadata": {},
   "outputs": [
    {
     "name": "stdout",
     "output_type": "stream",
     "text": [
      "/myapp/Phyllotaxis-sim-eval/notebooks/docker_run\n",
      "\u001b[?2004h"
     ]
    },
    {
     "ename": "",
     "evalue": "1",
     "output_type": "error",
     "traceback": []
    }
   ],
   "source": [
    "pwd"
   ]
  },
  {
   "cell_type": "code",
   "execution_count": 7,
   "id": "e1d340c3",
   "metadata": {},
   "outputs": [
    {
     "name": "stdout",
     "output_type": "stream",
     "text": [
      "Hello world!\n"
     ]
    }
   ],
   "source": [
    "print(\"Hello world!\")"
   ]
  },
  {
   "cell_type": "code",
   "execution_count": 10,
   "id": "229171ba",
   "metadata": {},
   "outputs": [
    {
     "ename": "NameError",
     "evalue": "name 'align_csv_database' is not defined",
     "output_type": "error",
     "traceback": [
      "\u001b[0;31m---------------------------------------------------------------------------\u001b[0m",
      "\u001b[0;31mNameError\u001b[0m                                 Traceback (most recent call last)",
      "Input \u001b[0;32mIn [10]\u001b[0m, in \u001b[0;36m<cell line: 2>\u001b[0;34m()\u001b[0m\n\u001b[1;32m      1\u001b[0m \u001b[38;5;28;01mfrom\u001b[39;00m \u001b[38;5;21;01mdtw\u001b[39;00m \u001b[38;5;28;01mimport\u001b[39;00m dtw\n\u001b[0;32m----> 2\u001b[0m \u001b[43malign_csv_database\u001b[49m\u001b[38;5;241m.\u001b[39mpy\n",
      "\u001b[0;31mNameError\u001b[0m: name 'align_csv_database' is not defined"
     ]
    }
   ],
   "source": [
    "from dtw import dtw\n"
   ]
  },
  {
   "cell_type": "code",
   "execution_count": null,
   "id": "8d980a80",
   "metadata": {},
   "outputs": [],
   "source": []
  }
 ],
 "metadata": {
  "kernelspec": {
   "display_name": "Bash",
   "language": "bash",
   "name": "bash"
  },
  "language_info": {
   "codemirror_mode": "shell",
   "file_extension": ".sh",
   "mimetype": "text/x-sh",
   "name": "bash"
  }
 },
 "nbformat": 4,
 "nbformat_minor": 5
}
