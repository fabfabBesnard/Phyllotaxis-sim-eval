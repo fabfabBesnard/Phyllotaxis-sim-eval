{
 "cells": [
  {
   "cell_type": "markdown",
   "metadata": {},
   "source": [
    "# Complete dtw evaluation workflow: simulate paired sequences and their groundtruth alignment, predict alignment with sm-dtw and assess sm-dtw prediction\n",
    "\n",
    "This notebook shows you how to pipeline a complete workflow to assess the alignment prediction made by `sm-dtw`. The pipeline consist in three steps:\n",
    "\n",
    "    1. simulate several pairs of \"phyllotaxis\" sequences with groundtruth alignments \n",
    "    2. provide the paired sequences to sm-dtw to predict alignments\n",
    "    3. assess the predicted alignments by comparing with groundtruth alignments\n",
    "\n",
    "The paired sequences are generated in batches using a configuration (config) table."
   ]
  },
  {
   "cell_type": "markdown",
   "metadata": {},
   "source": [
    "### Defintions / reminders\n",
    "\n",
    "- a *phyllotaxis sequence* is an ordered sequence of values representing the divergence angles and internode length between 'organs' (e.g. leaves, fruits, flowers, branches) along the stem of a plant \n",
    "- a *pair of sequences* (or *paired sequences*) are two related sequences: one \"reference\" and one \"test\" derived from the \"reference\" after several modifications."
   ]
  },
  {
   "cell_type": "markdown",
   "metadata": {},
   "source": [
    "### Requirements\n",
    "\n",
    "**/!\\ Software requirements**: `sm-dtw` must be installed in a conda environment that you will activate in this notebook. Please refer to the documentation of sm-dtw to set-up the conda environment.\n",
    "\n",
    "**Input requirements**:\n",
    "\n",
    "- The **config table** is a .csv file that details the modifications that alters the \"test\" sequence from the \"reference\" sequence. A template file with all explanation is available in **Phyllotaxis-sim-eval/example_data/simulation_plants_README.ods**\n",
    "- a config table is provided to run tests and this notebook: Phyllotaxis-sim-eval/example_data/Notebook_tests/**simulation_plants_nb.csv**\n"
   ]
  },
  {
   "cell_type": "markdown",
   "metadata": {},
   "source": [
    "## Step1: Simulated (multiple) paired sequences with a configuration file"
   ]
  },
  {
   "cell_type": "code",
   "execution_count": 1,
   "metadata": {},
   "outputs": [
    {
     "name": "stdout",
     "output_type": "stream",
     "text": [
      "[1] \"processing data for plant Plant#1\"\n",
      "reminder of main scenario parameters \n",
      "[1] \"seg_errors = TRUE\"\n",
      "[1] \"permutation = TRUE\"\n",
      "[1] \"measure = TRUE\"\n",
      "[1] \"noise = FALSE\"\n",
      "Number of short error-free internodes that can be permuted = 3 .\n",
      "Permuting organs of interval n° 16 in the $modified sequence.\n",
      "Permuting organs of interval n° 17 in the $modified sequence.\n",
      "Permuting organs of interval n° 18 in the $modified sequence.\n",
      "Number of permutation performed = 3.\n",
      "[1] \"processing data for plant Plant#2\"\n",
      "reminder of main scenario parameters \n",
      "[1] \"seg_errors = TRUE\"\n",
      "[1] \"permutation = FALSE\"\n",
      "[1] \"measure = FALSE\"\n",
      "[1] \"noise = TRUE\"\n",
      "[1] \"processing data for plant Plant#3\"\n",
      "reminder of main scenario parameters \n",
      "[1] \"seg_errors = TRUE\"\n",
      "[1] \"permutation = FALSE\"\n",
      "[1] \"measure = FALSE\"\n",
      "[1] \"noise = TRUE\"\n",
      "[1] \"processing data for plant Plant#4\"\n",
      "reminder of main scenario parameters \n",
      "[1] \"seg_errors = TRUE\"\n",
      "[1] \"permutation = TRUE\"\n",
      "[1] \"measure = FALSE\"\n",
      "[1] \"noise = FALSE\"\n",
      "Number of short error-free internodes that can be permuted = 0 .\n",
      "There are no intervals meeting the criteria for permutations, input unchanged.\n",
      "[1] \"processing data for plant Plant#5\"\n",
      "reminder of main scenario parameters \n",
      "[1] \"seg_errors = FALSE\"\n",
      "[1] \"permutation = FALSE\"\n",
      "[1] \"measure = FALSE\"\n",
      "[1] \"noise = TRUE\"\n",
      "Il y a eu 20 avis (utilisez warnings() pour les visionner)\n",
      "data generated - end of script \n"
     ]
    }
   ],
   "source": [
    "#Edit this variable to indicate the path to your local \"Phyllotaxis-sim-eval\" folder\n",
    "localrepo=~/Documents/RDP/MyProjects/ROMI/Data/Eval_AnglesAndInternodes/Phyllotaxis-sim-eval/\n",
    "\n",
    "#Edit this variable with the system path of the folder you choose to store the results:\n",
    "dest=~/Documents/RDP/MyProjects/ROMI/Data/Eval_AnglesAndInternodes/tests\n",
    "#suggestion: you can use Phyllotaxis-sim-eval/example_data/Notebook_tests/ that already contains input data for this notebook\n",
    "\n",
    "#Choose a prefix id for the generated dataset\n",
    "data=\"data1\"\n",
    "\n",
    "Rscript ../bin/simul_data.R \\\n",
    "--repository $localrepo \\\n",
    "--file ../example_data/Notebook_tests/simulation_plants_nb.csv \\\n",
    "--destination $dest \\\n",
    "--output_prefix $data \\\n",
    "--plots \\\n",
    "--verbose\n",
    "#only --file/-f is a compulsory argument\n",
    "#absolute path is required for --destination option\n",
    "#--plots option is deactivated by default\n",
    "#--verbose option is also deactivated by default"
   ]
  },
  {
   "cell_type": "markdown",
   "metadata": {},
   "source": [
    "The above script has generated 5 new files (names are fixed):\n",
    "\n",
    "- `reference_sequences.csv`: can be used as input for `sm-dtw`\n",
    "- `test_sequences.csv`: can be used as input for `sm-dtw`\n",
    "- `align_intervals.csv`: groundtruth alignment of intervals between the two paired phyllotaxis sequences\n",
    "- `align_organs.csv`: groundtruth alignment of organs\n",
    "- `Rplots.pdf`: compilation of aligned plots for each sequence pair "
   ]
  },
  {
   "cell_type": "markdown",
   "metadata": {},
   "source": [
    "## Step2: Predict an alignment for the paired sequences using sm-dtw\n"
   ]
  },
  {
   "cell_type": "code",
   "execution_count": 2,
   "metadata": {},
   "outputs": [
    {
     "name": "stdout",
     "output_type": "stream",
     "text": [
      "(base) (romi) "
     ]
    },
    {
     "ename": "",
     "evalue": "1",
     "output_type": "error",
     "traceback": []
    }
   ],
   "source": [
    "#Activate the conda environment where `sm-dtw` has been installed\n",
    "#for example:\n",
    "source ~/softwares/miniconda3/bin/activate\n",
    "conda activate romi"
   ]
  },
  {
   "cell_type": "code",
   "execution_count": 3,
   "metadata": {},
   "outputs": [
    {
     "name": "stdout",
     "output_type": "stream",
     "text": [
      "(romi) (romi) Traceback (most recent call last):\n",
      "  File \"/home/fabfab/softwares/miniconda3/envs/romi/bin/align_csv_database.py\", line 4, in <module>\n",
      "    __import__('pkg_resources').require('dtw==0.0.1')\n",
      "  File \"/home/fabfab/softwares/miniconda3/envs/romi/lib/python3.7/site-packages/pkg_resources/__init__.py\", line 3253, in <module>\n",
      "    @_call_aside\n",
      "  File \"/home/fabfab/softwares/miniconda3/envs/romi/lib/python3.7/site-packages/pkg_resources/__init__.py\", line 3237, in _call_aside\n",
      "    f(*args, **kwargs)\n",
      "  File \"/home/fabfab/softwares/miniconda3/envs/romi/lib/python3.7/site-packages/pkg_resources/__init__.py\", line 3266, in _initialize_master_working_set\n",
      "    working_set = WorkingSet._build_master()\n",
      "  File \"/home/fabfab/softwares/miniconda3/envs/romi/lib/python3.7/site-packages/pkg_resources/__init__.py\", line 584, in _build_master\n",
      "    ws.require(__requires__)\n",
      "  File \"/home/fabfab/softwares/miniconda3/envs/romi/lib/python3.7/site-packages/pkg_resources/__init__.py\", line 901, in require\n",
      "    needed = self.resolve(parse_requirements(requirements))\n",
      "  File \"/home/fabfab/softwares/miniconda3/envs/romi/lib/python3.7/site-packages/pkg_resources/__init__.py\", line 787, in resolve\n",
      "    raise DistributionNotFound(req, requirers)\n",
      "pkg_resources.DistributionNotFound: The 'dtw==0.0.1' distribution was not found and is required by the application\n",
      "(romi) "
     ]
    },
    {
     "ename": "",
     "evalue": "1",
     "output_type": "error",
     "traceback": []
    }
   ],
   "source": [
    "#choose a prefix name to identify the result output from dtw\n",
    "myprediction=\"dtw1\"\n",
    "align_csv_database.py $dest/${data}_reference_sequences.csv $dest/${data}_test_sequences.csv \\\n",
    "$myprediction --free_ends 0.4"
   ]
  },
  {
   "cell_type": "markdown",
   "metadata": {},
   "source": [
    "## Step3: Assess the alignment prediction made by `sm-dtw`"
   ]
  },
  {
   "cell_type": "code",
   "execution_count": 5,
   "metadata": {},
   "outputs": [
    {
     "name": "stdout",
     "output_type": "stream",
     "text": [
      "Starting script to evaluate dtw alignment prediction \n",
      "Le chargement a nécessité le package : optparse\n",
      "Le chargement a nécessité le package : gridExtra\n",
      "Converting dtw results for PlantID = Plant#1 \n",
      "Converting dtw results for PlantID = Plant#2 \n",
      "Converting dtw results for PlantID = Plant#3 \n",
      "Converting dtw results for PlantID = Plant#4 \n",
      "Converting dtw results for PlantID = Plant#5 \n",
      "## Starting analysis for PlantID = Plant#1 .\n",
      "[1] \"both reference sequence have 23 intervals\"\n",
      "[1] \"both test sequences (before/after dtw) have 22 intervals\"\n",
      "## Starting analysis for PlantID = Plant#2 .\n",
      "[1] \"both reference sequence have 14 intervals\"\n",
      "[1] \"both test sequences (before/after dtw) have 14 intervals\"\n",
      "## Starting analysis for PlantID = Plant#3 .\n",
      "[1] \"both reference sequence have 14 intervals\"\n",
      "[1] \"both test sequences (before/after dtw) have 14 intervals\"\n",
      "## Starting analysis for PlantID = Plant#4 .\n",
      "[1] \"both reference sequence have 19 intervals\"\n",
      "[1] \"both test sequences (before/after dtw) have 21 intervals\"\n",
      "## Starting analysis for PlantID = Plant#5 .\n",
      "[1] \"both reference sequence have 19 intervals\"\n",
      "[1] \"both test sequences (before/after dtw) have 19 intervals\"\n",
      "## Processing PlantID = Plant#1 .\n",
      "## Processing PlantID = Plant#2 .\n",
      "## Processing PlantID = Plant#3 .\n",
      "## Processing PlantID = Plant#4 .\n",
      "## Processing PlantID = Plant#5 .\n",
      "Il y a eu 25 avis (utilisez warnings() pour les visionner)\n",
      "data generated - end of script \n",
      "(romi) "
     ]
    },
    {
     "ename": "",
     "evalue": "1",
     "output_type": "error",
     "traceback": []
    }
   ],
   "source": [
    "Rscript ../bin/eval_dtw.R \\\n",
    "--repository $localrepo \\\n",
    "--alignment_dtw $dest/${myprediction}_result.csv \\\n",
    "--reference_seq $dest/${data}_reference_sequences.csv \\\n",
    "--test_seq $dest/${data}_test_sequences.csv \\\n",
    "--intervals_truealign $dest/${data}_align_intervals.csv \\\n",
    "--output_prefix $data$myprediction \\\n",
    "--detail --plots --verbose \\\n",
    "--destination $dest"
   ]
  },
  {
   "cell_type": "code",
   "execution_count": null,
   "metadata": {},
   "outputs": [],
   "source": []
  }
 ],
 "metadata": {
  "kernelspec": {
   "display_name": "Bash",
   "language": "bash",
   "name": "bash"
  },
  "language_info": {
   "codemirror_mode": "shell",
   "file_extension": ".sh",
   "mimetype": "text/x-sh",
   "name": "bash"
  }
 },
 "nbformat": 4,
 "nbformat_minor": 4
}
