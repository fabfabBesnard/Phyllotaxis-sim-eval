{
 "cells": [
  {
   "cell_type": "markdown",
   "metadata": {},
   "source": [
    "# Complete workflow: simulate paired sequences and groundtruth alignment, predict alignment with sm-dtw and assess sm-dtw prediction\n",
    "\n",
    "This notebook shows you how to pipeline a complete workflow to assess the alignment prediction made by `sm-dtw`. The pipeline consist in three steps:\n",
    "\n",
    "    1. simulate several pairs of \"phyllotaxis\" sequences with groundtruth alignments \n",
    "    2. provide the paired sequences to sm-dtw to predict alignments\n",
    "    3. assess the predicted alignments by comparing with groundtruth alignments\n",
    "\n",
    "The paired sequences are generated in batches using a configuration (config) table."
   ]
  },
  {
   "cell_type": "markdown",
   "metadata": {},
   "source": [
    "### Defintions / reminders\n",
    "\n",
    "- a *phyllotaxis sequence* is an ordered sequence of values representing the divergence angles and internode length between 'organs' (e.g. leaves, fruits, flowers, branches) along the stem of a plant \n",
    "- a *pair of sequences* (or *paired sequences*) are two related sequences: one \"reference\" and one \"test\" derived from the \"reference\" after several modifications."
   ]
  },
  {
   "cell_type": "markdown",
   "metadata": {},
   "source": [
    "### Requirements\n",
    "\n",
    "**/!\\ Software requirements**: `sm-dtw` must be installed in a conda environment that you will activate in this notebook. Please refer to the documentation of sm-dtw to set-up the conda environment.\n",
    "\n",
    "**Input requirements**:\n",
    "\n",
    "- The **config table** is a .csv file that details the modifications that alters the \"test\" sequence from the \"reference\" sequence. A template file with all explanation is available in **Phyllotaxis-sim-eval/example_data/simulation_plants_README.ods**\n",
    "- a config table is provided to run tests and this notebook: Phyllotaxis-sim-eval/example_data/Notebook_tests/**simulation_plants_nb.csv**\n"
   ]
  },
  {
   "cell_type": "markdown",
   "metadata": {},
   "source": [
    "## Step1: Simulated (multiple) paired sequences with a configuration file"
   ]
  },
  {
   "cell_type": "code",
   "execution_count": 2,
   "metadata": {},
   "outputs": [
    {
     "name": "stdout",
     "output_type": "stream",
     "text": [
      "[1] \"processing data for plant Plant#1\"\n",
      "reminder of main scenario parameters \n",
      "[1] \"seg_errors = TRUE\"\n",
      "[1] \"permutation = TRUE\"\n",
      "[1] \"measure = TRUE\"\n",
      "[1] \"noise = FALSE\"\n",
      "Number of short error-free internodes that can be permuted = 3 .\n",
      "Permuting organs of interval n° 15 in the $modified sequence.\n",
      "Permuting organs of interval n° 19 in the $modified sequence.\n",
      "Permuting organs of interval n° 22 in the $modified sequence.\n",
      "Number of permutation performed = 3.\n",
      "[1] \"processing data for plant Plant#2\"\n",
      "reminder of main scenario parameters \n",
      "[1] \"seg_errors = TRUE\"\n",
      "[1] \"permutation = FALSE\"\n",
      "[1] \"measure = FALSE\"\n",
      "[1] \"noise = TRUE\"\n",
      "[1] \"processing data for plant Plant#3\"\n",
      "reminder of main scenario parameters \n",
      "[1] \"seg_errors = TRUE\"\n",
      "[1] \"permutation = FALSE\"\n",
      "[1] \"measure = FALSE\"\n",
      "[1] \"noise = TRUE\"\n",
      "[1] \"processing data for plant Plant#4\"\n",
      "reminder of main scenario parameters \n",
      "[1] \"seg_errors = TRUE\"\n",
      "[1] \"permutation = TRUE\"\n",
      "[1] \"measure = FALSE\"\n",
      "[1] \"noise = FALSE\"\n",
      "Number of short error-free internodes that can be permuted = 1 .\n",
      "Permuting organs of interval n° 16 in the $modified sequence.\n",
      "Number of permutation performed = 1.\n",
      "[1] \"processing data for plant Plant#5\"\n",
      "reminder of main scenario parameters \n",
      "[1] \"seg_errors = FALSE\"\n",
      "[1] \"permutation = FALSE\"\n",
      "[1] \"measure = FALSE\"\n",
      "[1] \"noise = TRUE\"\n",
      "Messages d'avis :\n",
      "1: Removed 4 rows containing missing values (geom_point). \n",
      "2: Removed 4 row(s) containing missing values (geom_path). \n",
      "3: Removed 4 rows containing missing values (geom_point). \n",
      "4: Removed 4 row(s) containing missing values (geom_path). \n",
      "5: Removed 4 rows containing missing values (geom_point). \n",
      "6: Removed 4 row(s) containing missing values (geom_path). \n",
      "7: Removed 4 rows containing missing values (geom_point). \n",
      "8: Removed 4 row(s) containing missing values (geom_path). \n",
      "data generated - end of script \n"
     ]
    }
   ],
   "source": [
    "#Edit this variable with the system path of the folder you choose to store the results:\n",
    "dest=/home/fabfab/Dropbox/Arabidopsis-eval/Phyllotaxis-sim-eval/example_data/Notebook_tests\n",
    "\n",
    "#Choose an prefix id for the generated dataset\n",
    "data=\"data1\"\n",
    "\n",
    "Rscript ../bin/simul_data.R \\\n",
    "--file ../example_data/Notebook_tests/simulation_plants_nb.csv \\\n",
    "--destination $dest \\\n",
    "--output_prefix $data \\\n",
    "--plots \\\n",
    "--verbose\n",
    "#only --file/-f is a compulsory argument\n",
    "#absolute path is required for --destination option\n",
    "#--plots option is deactivated by default\n",
    "#--verbose option is also deactivated by default"
   ]
  },
  {
   "cell_type": "markdown",
   "metadata": {},
   "source": [
    "The above script has generated 5 new files (names are fixed):\n",
    "\n",
    "- `reference_sequences.csv`: can be used as input for `sm-dtw`\n",
    "- `test_sequences.csv`: can be used as input for `sm-dtw`\n",
    "- `align_intervals.csv`: groundtruth alignment of intervals between the two paired phyllotaxis sequences\n",
    "- `align_organs.csv`: groundtruth alignment of organs\n",
    "- `Rplots.pdf`: compilation of aligned plots for each sequence pair "
   ]
  },
  {
   "cell_type": "markdown",
   "metadata": {},
   "source": [
    "## Step2: Predict an alignment for the paired sequences using sm-dtw\n"
   ]
  },
  {
   "cell_type": "code",
   "execution_count": 3,
   "metadata": {},
   "outputs": [
    {
     "name": "stdout",
     "output_type": "stream",
     "text": [
      "(base) (romi) "
     ]
    },
    {
     "ename": "",
     "evalue": "1",
     "output_type": "error",
     "traceback": []
    }
   ],
   "source": [
    "#Activate the conda environment where `sm-dtw` has been installed\n",
    "#for example:\n",
    "source ~/softwares/miniconda3/bin/activate\n",
    "conda activate romi"
   ]
  },
  {
   "cell_type": "code",
   "execution_count": 4,
   "metadata": {},
   "outputs": [
    {
     "name": "stdout",
     "output_type": "stream",
     "text": [
      "(romi) (romi) 2021-11-05 13:22:04 - INFO: Loading CSV files...\n",
      "2021-11-05 13:22:04 - INFO: Found 5 PlantID in the reference CSV file.\n",
      "2021-11-05 13:22:04 - INFO: Found 5 PlantID in the test CSV file.\n",
      "2021-11-05 13:22:04 - INFO: Found 5 common PlantID in the reference & test CSV file.\n",
      "2021-11-05 13:22:04 - INFO: Performing sequence comparison for 'Plant#4'...\n",
      "2021-11-05 13:22:04 - INFO: Starting brute force search for 49 pairs of free-ends...\n",
      "2021-11-05 13:22:18 - INFO: Found free-ends (3, 7) at a cost of 0.05444301191952761.\n",
      "2021-11-05 13:22:19 - INFO: Performing sequence comparison for 'Plant#5'...\n",
      "2021-11-05 13:22:19 - INFO: Starting brute force search for 49 pairs of free-ends...\n",
      "2021-11-05 13:22:31 - INFO: Found free-ends (0, 4) at a cost of 0.05724259052800009.\n",
      "2021-11-05 13:22:31 - INFO: Performing sequence comparison for 'Plant#3'...\n",
      "2021-11-05 13:22:31 - INFO: Starting brute force search for 25 pairs of free-ends...\n",
      "2021-11-05 13:22:35 - INFO: Found free-ends (1, 2) at a cost of 0.09675007206016416.\n",
      "2021-11-05 13:22:35 - INFO: Performing sequence comparison for 'Plant#2'...\n",
      "2021-11-05 13:22:35 - INFO: Starting brute force search for 25 pairs of free-ends...\n",
      "2021-11-05 13:22:38 - INFO: Found free-ends (0, 1) at a cost of 0.1039909121247563.\n",
      "2021-11-05 13:22:38 - INFO: Performing sequence comparison for 'Plant#1'...\n",
      "2021-11-05 13:22:38 - INFO: Starting brute force search for 64 pairs of free-ends...\n",
      "2021-11-05 13:23:01 - INFO: Found free-ends (2, 2) at a cost of 0.19418858112172327.\n",
      "2021-11-05 13:23:02 - INFO: Exporting result CSV to '/home/fabfab/Dropbox/Arabidopsis-eval/Phyllotaxis-sim-eval/example_data/Notebook_tests/dtw1_result.csv'\n",
      "(romi) "
     ]
    },
    {
     "ename": "",
     "evalue": "1",
     "output_type": "error",
     "traceback": []
    }
   ],
   "source": [
    "#choose a prefix name to identify the result output from dtw\n",
    "myprediction=\"dtw1\"\n",
    "align_csv_database.py $dest/${data}_reference_sequences.csv $dest/${data}_test_sequences.csv \\\n",
    "$myprediction --free_ends 0.4"
   ]
  },
  {
   "cell_type": "markdown",
   "metadata": {},
   "source": [
    "## Step3: Assess the alignment prediction made by `sm-dtw`"
   ]
  },
  {
   "cell_type": "code",
   "execution_count": 7,
   "metadata": {},
   "outputs": [
    {
     "name": "stdout",
     "output_type": "stream",
     "text": [
      "Starting script to evaluate dtw alignment prediction \n",
      "Le chargement a nécessité le package : optparse\n",
      "Le chargement a nécessité le package : gridExtra\n",
      "Converting dtw results for PlantID = Plant#1 \n",
      "Converting dtw results for PlantID = Plant#2 \n",
      "Converting dtw results for PlantID = Plant#3 \n",
      "Converting dtw results for PlantID = Plant#4 \n",
      "Converting dtw results for PlantID = Plant#5 \n",
      "## Starting analysis for PlantID = Plant#1 .\n",
      "[1] \"both reference sequence have 23 intervals\"\n",
      "[1] \"both test sequences (before/after dtw) have 22 intervals\"\n",
      "## Starting analysis for PlantID = Plant#2 .\n",
      "[1] \"both reference sequence have 14 intervals\"\n",
      "[1] \"both test sequences (before/after dtw) have 13 intervals\"\n",
      "## Starting analysis for PlantID = Plant#3 .\n",
      "[1] \"both reference sequence have 14 intervals\"\n",
      "[1] \"both test sequences (before/after dtw) have 14 intervals\"\n",
      "## Starting analysis for PlantID = Plant#4 .\n",
      "[1] \"both reference sequence have 19 intervals\"\n",
      "[1] \"both test sequences (before/after dtw) have 21 intervals\"\n",
      "## Starting analysis for PlantID = Plant#5 .\n",
      "[1] \"both reference sequence have 19 intervals\"\n",
      "[1] \"both test sequences (before/after dtw) have 19 intervals\"\n",
      "## Processing PlantID = Plant#1 .\n",
      "## Processing PlantID = Plant#2 .\n",
      "## Processing PlantID = Plant#3 .\n",
      "## Processing PlantID = Plant#4 .\n",
      "## Processing PlantID = Plant#5 .\n",
      "Erreur dans `[<-.data.frame`(`*tmp*`, seq.long.print$dtw == \"C\", , value = list( : \n",
      "  les valeurs manquantes ne sont pas permises dans les affectations indiçées des tableaux de données\n",
      "Appels : compare_plots -> multiseq_plot -> [<- -> [<-.data.frame\n",
      "De plus : Il y a eu 18 avis (utilisez warnings() pour les visionner)\n",
      "Exécution arrêtée\n",
      "(romi) "
     ]
    },
    {
     "ename": "",
     "evalue": "1",
     "output_type": "error",
     "traceback": []
    }
   ],
   "source": [
    "Rscript ../bin/eval_dtw.R \\\n",
    "--alignment_dtw $dest/${myprediction}_result.csv \\\n",
    "--reference_seq $dest/${data}_reference_sequences.csv \\\n",
    "--test_seq $dest/${data}_test_sequences.csv \\\n",
    "--intervals_truealign $dest/${data}_align_intervals.csv \\\n",
    "--output_prefix $data$myprediction \\\n",
    "--detail --plots --verbose \\\n",
    "--destination $dest"
   ]
  },
  {
   "cell_type": "code",
   "execution_count": null,
   "metadata": {},
   "outputs": [],
   "source": []
  }
 ],
 "metadata": {
  "kernelspec": {
   "display_name": "Bash",
   "language": "bash",
   "name": "bash"
  },
  "language_info": {
   "codemirror_mode": "shell",
   "file_extension": ".sh",
   "mimetype": "text/x-sh",
   "name": "bash"
  }
 },
 "nbformat": 4,
 "nbformat_minor": 4
}
