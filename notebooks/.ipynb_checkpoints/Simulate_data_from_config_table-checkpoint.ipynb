{
 "cells": [
  {
   "cell_type": "markdown",
   "metadata": {},
   "source": [
    "# Simulate data from a config table\n",
    "\n",
    "This notebook shows you how to simulate several pairs of \"phyllotaxis\" sequences at the same time using a configuration (config) table.\n",
    "\n",
    "- a *phyllotaxis sequence* is an ordered sequence of values representing the divergence angles and internode length between 'organs' (e.g. leaves, fruits, flowers, branches) along the stem of a plant \n",
    "- a *pair of sequences* are two related sequences: one \"reference\" and one \"test\" derived from the \"reference\" after several modifications.\n",
    "\n",
    "The **config table** is a .csv file that details the modifications that alters the \"test\" sequence from the \"reference\" sequence. A template file with all explanation is available in **Phyllotaxis-sim-eval/example_data/simulation_plants_README.ods**\n",
    "\n",
    "The ouput \"reference\" and \"test\" sequences of this process can be given to an \"alignment predictor\" program such as `sm-dtw`. Among the outputs of this program, a \"ground truth\" alignment is provided (\"align_intervals.csv\") which allows you to quantify how much the alignment prediction is correct.\n",
    "\n",
    "A pdf containing plots for each sequence pair can also be generated\n"
   ]
  },
  {
   "cell_type": "code",
   "execution_count": 4,
   "metadata": {},
   "outputs": [
    {
     "name": "stdout",
     "output_type": "stream",
     "text": [
      "Starting script to simulate paired sequences of phyllotaxis \n",
      "[1] \"processing data for plant Plant#1\"\n",
      "reminder of main scenario parameters \n",
      "[1] \"seg_errors = TRUE\"\n",
      "[1] \"permutation = TRUE\"\n",
      "[1] \"measure = TRUE\"\n",
      "[1] \"noise = FALSE\"\n",
      "Number of short error-free internodes that can be permuted = 1 .\n",
      "Permuting organs of interval n° 13 in the $modified sequence.\n",
      "Number of permutation performed = 1.\n",
      "[1] \"processing data for plant Plant#2\"\n",
      "reminder of main scenario parameters \n",
      "[1] \"seg_errors = TRUE\"\n",
      "[1] \"permutation = FALSE\"\n",
      "[1] \"measure = FALSE\"\n",
      "[1] \"noise = TRUE\"\n",
      "[1] \"processing data for plant Plant#3\"\n",
      "reminder of main scenario parameters \n",
      "[1] \"seg_errors = TRUE\"\n",
      "[1] \"permutation = FALSE\"\n",
      "[1] \"measure = FALSE\"\n",
      "[1] \"noise = TRUE\"\n",
      "[1] \"processing data for plant Plant#4\"\n",
      "reminder of main scenario parameters \n",
      "[1] \"seg_errors = TRUE\"\n",
      "[1] \"permutation = TRUE\"\n",
      "[1] \"measure = FALSE\"\n",
      "[1] \"noise = FALSE\"\n",
      "There are no intervals below the treshold value, no permutations performed, input unchanged.\n",
      "[1] \"processing data for plant Plant#5\"\n",
      "reminder of main scenario parameters \n",
      "[1] \"seg_errors = FALSE\"\n",
      "[1] \"permutation = FALSE\"\n",
      "[1] \"measure = FALSE\"\n",
      "[1] \"noise = TRUE\"\n",
      "Messages d'avis :\n",
      "1: Removed 4 rows containing missing values (geom_point). \n",
      "2: Removed 4 row(s) containing missing values (geom_path). \n",
      "3: Removed 4 rows containing missing values (geom_point). \n",
      "4: Removed 4 row(s) containing missing values (geom_path). \n",
      "5: Removed 4 rows containing missing values (geom_point). \n",
      "6: Removed 4 row(s) containing missing values (geom_path). \n",
      "7: Removed 4 rows containing missing values (geom_point). \n",
      "8: Removed 4 row(s) containing missing values (geom_path). \n",
      "simulated data generated - end of script \n"
     ]
    }
   ],
   "source": [
    "#Edit this variable with the system path of the folder you choose to store the results:\n",
    "localrepo=~/Documents/RDP/MyProjects/ROMI/Data/Eval_AnglesAndInternodes/Phyllotaxis-sim-eval/\n",
    "dest=~/Documents/RDP/MyProjects/ROMI/Data/Eval_AnglesAndInternodes/Phyllotaxis-sim-eval/example_data/Notebook_tests/\n",
    "\n",
    "Rscript ../bin/simul_data.R \\\n",
    "--file ../example_data/Notebook_tests/simulation_plants_nb.csv \\\n",
    "-R $localrepo \\\n",
    "--destination $dest \\\n",
    "--plots \\\n",
    "--verbose\n",
    "#only --file/-f is a compulsory option\n",
    "#absolute path are required for --destination option\n",
    "#--plots option is deactivated by default\n",
    "#--verbose option is also deactivated by default"
   ]
  },
  {
   "cell_type": "markdown",
   "metadata": {},
   "source": [
    "The above script has generated 5 new files (names are fixed):\n",
    "\n",
    "- `reference_sequences.csv`: can be used as input for `sm-dtw`\n",
    "- `test_sequences.csv`: can be used as input for `sm-dtw`\n",
    "- `align_intervals.csv`: groundtruth alignment of intervals between the two paired phyllotaxis sequences\n",
    "- `align_organs.csv`: groundtruth alignment of organs\n",
    "- `Rplots.pdf`: compilation of aligned plots for each sequence pair "
   ]
  },
  {
   "cell_type": "code",
   "execution_count": null,
   "metadata": {},
   "outputs": [],
   "source": []
  }
 ],
 "metadata": {
  "kernelspec": {
   "display_name": "Bash",
   "language": "bash",
   "name": "bash"
  },
  "language_info": {
   "codemirror_mode": "shell",
   "file_extension": ".sh",
   "mimetype": "text/x-sh",
   "name": "bash"
  }
 },
 "nbformat": 4,
 "nbformat_minor": 4
}
